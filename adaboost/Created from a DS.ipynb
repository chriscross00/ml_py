{
 "cells": [
  {
   "cell_type": "code",
   "execution_count": 1,
   "metadata": {},
   "outputs": [
    {
     "name": "stdout",
     "output_type": "stream",
     "text": [
      "\n",
      "Please wait a moment while I gather a list of all available modules...\n",
      "\n"
     ]
    },
    {
     "name": "stderr",
     "output_type": "stream",
     "text": [
      "/home/ckc/Documents/venv/DS/lib/python3.6/site-packages/IPython/kernel/__init__.py:13: ShimWarning: The `IPython.kernel` package has been deprecated since IPython 4.0.You should import from ipykernel or jupyter_client instead.\n",
      "  \"You should import from ipykernel or jupyter_client instead.\", ShimWarning)\n",
      "/usr/lib/python3.6/pkgutil.py:107: VisibleDeprecationWarning:\n",
      "\n",
      "zmq.eventloop.minitornado is deprecated in pyzmq 14.0 and will be removed.\n",
      "    Install tornado itself to use zmq with the tornado IOLoop.\n",
      "    \n",
      "\n"
     ]
    },
    {
     "name": "stdout",
     "output_type": "stream",
     "text": [
      "IPython             atexit              jedi                runpy\n",
      "__future__          audioop             json                sched\n",
      "_ast                autoreload          jsonschema          scipy\n",
      "_asyncio            backcall            jupyter             seaborn\n",
      "_bisect             base64              jupyter_client      secrets\n",
      "_blake2             bdb                 jupyter_core        select\n",
      "_bootlocale         binascii            keyword             selectors\n",
      "_bz2                binhex              kiwisolver          setuptools\n",
      "_codecs             bisect              lib2to3             shelve\n",
      "_codecs_cn          bs4                 linecache           shlex\n",
      "_codecs_hk          builtins            locale              shutil\n",
      "_codecs_iso2022     bz2                 logging             signal\n",
      "_codecs_jp          cProfile            lxml                site\n",
      "_codecs_kr          calendar            lzma                sitecustomize\n",
      "_codecs_tw          certifi             macpath             six\n",
      "_collections        cgi                 macurl2path         sklearn\n",
      "_collections_abc    cgitb               mailbox             smtpd\n",
      "_compat_pickle      chardet             mailcap             smtplib\n",
      "_compression        chunk               marshal             sndhdr\n",
      "_crypt              cmath               math                socket\n",
      "_csv                cmd                 matplotlib          socketserver\n",
      "_ctypes             code                mimetypes           spwd\n",
      "_ctypes_test        codecs              mmap                sqlite3\n",
      "_curses             codeop              modulefinder        sre_compile\n",
      "_curses_panel       collections         multiprocessing     sre_constants\n",
      "_datetime           colorsys            nbformat            sre_parse\n",
      "_dbm                compileall          netrc               ssl\n",
      "_decimal            concurrent          nis                 stat\n",
      "_dummy_thread       configparser        nntplib             statistics\n",
      "_elementtree        contextlib          ntpath              storemagic\n",
      "_functools          copy                nturl2path          string\n",
      "_gdbm               copyreg             numbers             stringprep\n",
      "_hashlib            crypt               numpy               struct\n",
      "_heapq              csv                 opcode              subprocess\n",
      "_imp                ctypes              operator            sunau\n",
      "_io                 curses              optparse            symbol\n",
      "_json               cycler              os                  sympyprinting\n",
      "_locale             cythonmagic         ossaudiodev         symtable\n",
      "_lsprof             datetime            pandas              sys\n",
      "_lzma               dateutil            parser              sysconfig\n",
      "_markupbase         dbm                 parso               syslog\n",
      "_md5                decimal             pathlib             tabnanny\n",
      "_multibytecodec     decorator           pdb                 tarfile\n",
      "_multiprocessing    difflib             pexpect             telnetlib\n",
      "_opcode             dis                 pickle              tempfile\n",
      "_operator           distutils           pickleshare         termios\n",
      "_osx_support        doctest             pickletools         test\n",
      "_pickle             dummy_threading     pip                 tests\n",
      "_plotly_utils       easy_install        pipes               textwrap\n",
      "_posixsubprocess    email               pkg_resources       this\n",
      "_pydecimal          encodings           pkgutil             threading\n",
      "_pyio               ensurepip           platform            time\n",
      "_random             enum                plistlib            timeit\n",
      "_sha1               errno               plotly              tkinter\n",
      "_sha256             faulthandler        plotlywidget        token\n",
      "_sha3               fcntl               poplib              tokenize\n",
      "_sha512             filecmp             posix               tornado\n",
      "_signal             fileinput           posixpath           trace\n",
      "_sitebuiltins       fnmatch             post                traceback\n",
      "_socket             formatter           pprint              tracemalloc\n",
      "_sqlite3            fractions           profile             traitlets\n",
      "_sre                ftplib              prompt_toolkit      tty\n",
      "_ssl                functools           pstats              turtle\n",
      "_stat               gc                  pty                 types\n",
      "_string             genericpath         ptyprocess          typing\n",
      "_strptime           get                 public              unicodedata\n",
      "_struct             getopt              pwd                 unittest\n",
      "_symtable           getpass             py_compile          urllib\n",
      "_sysconfigdata_m_linux_x86_64-linux-gnu gettext             pyclbr              urllib3\n",
      "_testbuffer         glob                pydoc               uu\n",
      "_testcapi           grp                 pydoc_data          uuid\n",
      "_testimportmultiple gzip                pyexpat             venv\n",
      "_testmultiphase     hashlib             pygments            warnings\n",
      "_thread             heapq               pylab               wave\n",
      "_threading_local    hmac                pyparsing           wcwidth\n",
      "_tkinter            html                pytz                weakref\n",
      "_tracemalloc        http                query_string        webbrowser\n",
      "_warnings           idna                queue               wsgiref\n",
      "_weakref            imaplib             quopri              xdrlib\n",
      "_weakrefset         imghdr              random              xml\n",
      "abc                 imp                 re                  xmlrpc\n",
      "aifc                importlib           readline            xxlimited\n",
      "antigravity         inspect             reprlib             xxsubtype\n",
      "argparse            io                  request             zipapp\n",
      "array               ipaddress           requests            zipfile\n",
      "ast                 ipykernel           resource            zipimport\n",
      "asynchat            ipykernel_launcher  retrying            zlib\n",
      "asyncio             ipython_genutils    rlcompleter         zmq\n",
      "asyncore            itertools           rmagic              \n",
      "\n",
      "Enter any module name to get more help.  Or, type \"modules spam\" to search\n",
      "for modules whose name or summary contain the string \"spam\".\n",
      "\n"
     ]
    }
   ],
   "source": [
    "help('modules')"
   ]
  }
 ],
 "metadata": {
  "kernelspec": {
   "display_name": "DS",
   "language": "python",
   "name": "ds"
  },
  "language_info": {
   "codemirror_mode": {
    "name": "ipython",
    "version": 3
   },
   "file_extension": ".py",
   "mimetype": "text/x-python",
   "name": "python",
   "nbconvert_exporter": "python",
   "pygments_lexer": "ipython3",
   "version": "3.6.6"
  }
 },
 "nbformat": 4,
 "nbformat_minor": 2
}
